{
 "cells": [
  {
   "cell_type": "code",
   "execution_count": 18,
   "id": "41bc0549-875f-4eb1-80f7-0bfdd90888b4",
   "metadata": {},
   "outputs": [],
   "source": [
    "def search_area(servers):\n",
    "    \"\"\"\n",
    "    \"\"\"\n",
    "\n",
    "    melbourne = [144.593741856, -38.433859306, 145.512528832, -37.5112737225]\n",
    "\n",
    "    index = 1\n",
    "    lng = melbourne[0] + round((melbourne[2] - melbourne[0])/servers, 10) * (index + 1)\n",
    "    melbourne[2] = lng\n",
    "    \n",
    "    return melbourne\n"
   ]
  },
  {
   "cell_type": "code",
   "execution_count": 19,
   "id": "7663dfea-f701-45bd-87b2-8acf4e1de64a",
   "metadata": {},
   "outputs": [
    {
     "data": {
      "text/plain": [
       "[144.593741856, -38.433859306, 145.053135344, -37.5112737225]"
      ]
     },
     "execution_count": 19,
     "metadata": {},
     "output_type": "execute_result"
    }
   ],
   "source": [
    "search_area(4)"
   ]
  },
  {
   "cell_type": "code",
   "execution_count": null,
   "id": "9827bc23-89ef-4bc4-827d-797db429e629",
   "metadata": {},
   "outputs": [],
   "source": []
  }
 ],
 "metadata": {
  "kernelspec": {
   "display_name": "Python 3 (ipykernel)",
   "language": "python",
   "name": "python3"
  },
  "language_info": {
   "codemirror_mode": {
    "name": "ipython",
    "version": 3
   },
   "file_extension": ".py",
   "mimetype": "text/x-python",
   "name": "python",
   "nbconvert_exporter": "python",
   "pygments_lexer": "ipython3",
   "version": "3.9.7"
  }
 },
 "nbformat": 4,
 "nbformat_minor": 5
}
