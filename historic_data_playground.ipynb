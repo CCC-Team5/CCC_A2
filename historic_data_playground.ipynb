{
 "cells": [
  {
   "cell_type": "code",
   "execution_count": 1,
   "metadata": {},
   "outputs": [
    {
     "name": "stdout",
     "output_type": "stream",
     "text": [
      "10948035094\n"
     ]
    }
   ],
   "source": [
    "import os\n",
    "import json\n",
    "twitter_path = 'twitter-melb.json'\n",
    "filesize = os.path.getsize(twitter_path)\n",
    "print(filesize)\n",
    "\n",
    "chunksize = filesize / 100"
   ]
  },
  {
   "cell_type": "code",
   "execution_count": 2,
   "metadata": {},
   "outputs": [],
   "source": [
    "def chunk(twitter_path, chunksize, filesize):\n",
    "    \n",
    "    with open(twitter_path, 'rb') as f:\n",
    "        # Get current position in file\n",
    "        chunk_end = f.tell()\n",
    "\n",
    "        while True:\n",
    "            chunk_start = chunk_end\n",
    "            # Move from current position to current position + chunk_size\n",
    "            f.seek(f.tell() + chunksize)\n",
    "            # Read until the next line to not break lines in the middle\n",
    "            f.readline()\n",
    "            # Get chunk_end as the offset from the beginning of the file in bytes\n",
    "            chunk_end = f.tell()\n",
    "            if chunk_end > filesize:\n",
    "                chunk_end = filesize\n",
    "            yield chunk_start, chunk_end - chunk_start\n",
    "            if chunk_end == filesize:\n",
    "                break\n",
    "\n",
    "def read_tweets(twitter_path, start, size):\n",
    "    \"\"\"\n",
    "    param: twitter file path\n",
    "    return: twitter file lines\n",
    "    \"\"\"\n",
    "\n",
    "    with open(twitter_path, 'rb') as f:\n",
    "        # Get current position in file\n",
    "        f.seek(start)\n",
    "        end = start\n",
    "        while True:\n",
    "            line = f.readline()\n",
    "            end = f.tell()\n",
    "            yield line\n",
    "            if end > start + size:\n",
    "                end = start + size\n",
    "            if end == start + size:\n",
    "                break\n",
    "            \n",
    "def proc_line(line):\n",
    "    \"\"\"\n",
    "    param: twitter file lines\n",
    "    return: processed twitter file lines\n",
    "    \"\"\"\n",
    "    line = line.decode('utf-8')\n",
    "    line = line.strip('\\r\\n')\n",
    "    line = line.rstrip('')\n",
    "    if line.endswith (','):\n",
    "        line = line[:-1]\n",
    "    if line.endswith (']}'): \n",
    "        line = line[:-2]\n",
    "\n",
    "    return line"
   ]
  },
  {
   "cell_type": "code",
   "execution_count": 3,
   "metadata": {},
   "outputs": [],
   "source": [
    "# couchbd_settings\n",
    "address = 'localhost:15984'\n",
    "username = 'admin'\n",
    "password = '123456'\n",
    "tweets = 'raw_tweets'\n",
    "test = 'test'"
   ]
  },
  {
   "cell_type": "code",
   "execution_count": 4,
   "metadata": {},
   "outputs": [],
   "source": [
    "import couchdb\n",
    "\n",
    "# use authenticated connection to connect to couchdb server for writing to the database\n",
    "def db_connect(dbname):\n",
    "\n",
    "    couchserver = couchdb.Server('http://' + username + ':' + password + '@' + address)\n",
    "    try:\n",
    "      db = couchserver[dbname]\n",
    "    except:\n",
    "      db = couchserver.create(dbname)\n",
    "\n",
    "    return db\n",
    "\n",
    "test_db = db_connect(test)\n",
    "tweet_db = db_connect(tweets)\n",
    "\n",
    "def save_to_db(item_id, keyword, item, db):\n",
    "    \"\"\"\"\"\"\n",
    "    \"\"\"\"\"\"\n",
    "\n",
    "    db[item_id] = {keyword: item}"
   ]
  },
  {
   "cell_type": "code",
   "execution_count": 5,
   "metadata": {},
   "outputs": [],
   "source": [
    "chunks = []\n",
    "\n",
    "for chunkStart, chunkSize in chunk(twitter_path, int(chunksize), filesize):\n",
    "            chunks.append({'chunkStart': chunkStart, 'chunkSize': chunkSize})"
   ]
  },
  {
   "cell_type": "code",
   "execution_count": 25,
   "metadata": {},
   "outputs": [],
   "source": [
    "import itertools\n",
    "\n",
    "chunkStart = chunks[6]['chunkStart']\n",
    "chunkSize = chunks[6]['chunkSize']\n",
    "yield_tweets = read_tweets(twitter_path,  chunkStart, chunkSize)\n",
    "\n",
    "for line in yield_tweets:\n",
    "    line_processed = proc_line(line)\n",
    "    try:\n",
    "        data = json.loads(line_processed)\n",
    "        tweet_id = data['id']\n",
    "        if tweet_id not in tweet_db and tweet_id not in test_db:\n",
    "            save_to_db(tweet_id, 'historic', data['doc'], test_db)\n",
    "    except Exception as e:\n",
    "        print('Error reading line --ignoring')\n",
    "        print(e)      \n",
    "        "
   ]
  }
 ],
 "metadata": {
  "interpreter": {
   "hash": "0dabc2a3d58a0c5bc25b4ec180f9b0e69ae1522730256f35a8f23b249fc9a485"
  },
  "kernelspec": {
   "display_name": "Python 3 (ipykernel)",
   "language": "python",
   "name": "python3"
  },
  "language_info": {
   "codemirror_mode": {
    "name": "ipython",
    "version": 3
   },
   "file_extension": ".py",
   "mimetype": "text/x-python",
   "name": "python",
   "nbconvert_exporter": "python",
   "pygments_lexer": "ipython3",
   "version": "3.9.7"
  }
 },
 "nbformat": 4,
 "nbformat_minor": 4
}
