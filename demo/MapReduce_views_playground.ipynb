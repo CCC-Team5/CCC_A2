{
 "cells": [
  {
   "cell_type": "code",
   "execution_count": null,
   "id": "631b5490-d036-4b64-8745-59a20908caa1",
   "metadata": {},
   "outputs": [],
   "source": [
    "# language-count view: linking to opportunity score\n",
    "\n",
    "function (doc) {\n",
    "  if (doc.stream) {\n",
    "    if (doc.stream.lang && doc.stream.lang != 'und') {\n",
    "      emit(doc.stream.lang, 1);\n",
    "    }\n",
    "  }\n",
    "  else if (doc.timeline) {\n",
    "    if (doc.timeline.lang && doc.timeline.lang != 'und') {\n",
    "      emit(doc.timeline.lang, 1);\n",
    "    } \n",
    "  }\n",
    "  else if (doc.historic) {\n",
    "    if (doc.historic.lang && doc.historic.lang != 'und') {\n",
    "      emit(doc.historic.lang, 1);\n",
    "    }\n",
    "  }\n",
    "}"
   ]
  },
  {
   "cell_type": "code",
   "execution_count": null,
   "id": "aea3ac15-f9e8-4c54-bc8d-57ad39502746",
   "metadata": {},
   "outputs": [],
   "source": [
    "# geo (point coordinates) count view: geo heatmap? - freqent checkins at shopping centres, schools, market, zoo etc: linking to neighbourhood score\n",
    "\n",
    "function (doc) {\n",
    "  if (doc.stream) {\n",
    "    if (doc.stream.geo.coordinates) {\n",
    "      emit(doc.stream.geo.coordinates, 1);\n",
    "    }\n",
    "  }\n",
    "  else if (doc.timeline) {\n",
    "    if (doc.timeline.geo.coordinates) {\n",
    "      emit(doc.timeline.geo.coordinates, 1);\n",
    "    } \n",
    "  }\n",
    "  else if (doc.historic) {\n",
    "    if (doc.historic.geo.coordinates) {\n",
    "      emit(doc.historic.geo.coordinates, 1);\n",
    "    }\n",
    "  }\n",
    "}"
   ]
  },
  {
   "cell_type": "code",
   "execution_count": null,
   "id": "fb7bf1f8-fc00-46dd-ba5b-6357be0380a9",
   "metadata": {},
   "outputs": [],
   "source": [
    "# geo - tweet view: sentiment analyses on frequently checked-in spots? linking to neighbourhood score\n",
    "\n",
    "function (doc) {\n",
    "  if (doc.stream) {\n",
    "    if (doc.stream.geo.coordinates) {\n",
    "      emit(doc.stream.geo.coordinates, doc.stream.text);\n",
    "    }\n",
    "  }\n",
    "  else if (doc.timeline) {\n",
    "    if (doc.timeline.geo.coordinates) {\n",
    "      emit(doc.timeline.geo.coordinates, doc.timeline.text);\n",
    "    } \n",
    "  }\n",
    "  else if (doc.historic) {\n",
    "    if (doc.historic.geo.coordinates) {\n",
    "      emit(doc.historic.geo.coordinates, doc.historic.text);\n",
    "    }\n",
    "  }\n",
    "}"
   ]
  },
  {
   "cell_type": "code",
   "execution_count": null,
   "id": "420d0848-d930-4f09-a5c5-f7d5c2934c15",
   "metadata": {},
   "outputs": [],
   "source": [
    "# hashtag count view: now trending? - needs to add date argument\n",
    "\n",
    "function (doc) {\n",
    "  if(doc.historic){\n",
    "    if(doc.historic.entities.hashtags.length > 0){\n",
    "      for (var i = 0; i < doc.historic.entities.hashtags.length; i++){\n",
    "        emit(doc.historic.entities.hashtags[i].text, 1);\n",
    "      }\n",
    "    }\n",
    "  }\n",
    "  if(doc.timeline){\n",
    "    if(doc.timeline.entities.hashtags.length > 0){\n",
    "      for (var j = 0; j < doc.timeline.entities.hashtags.length; j++){\n",
    "        emit(doc.timeline.entities.hashtags[i].text, 1);\n",
    "      }\n",
    "    }\n",
    "  }\n",
    "  if(doc.stream){\n",
    "    if(doc.stream.entities.hashtags.length > 0){\n",
    "      for (var k = 0; k < doc.stream.entities.hashtags.length; k++){\n",
    "        emit(doc.stream.entities.hashtags[i].text, 1);\n",
    "      }\n",
    "    }\n",
    "  }\n",
    "}"
   ]
  }
 ],
 "metadata": {
  "kernelspec": {
   "display_name": "Python 3 (ipykernel)",
   "language": "python",
   "name": "python3"
  },
  "language_info": {
   "codemirror_mode": {
    "name": "ipython",
    "version": 3
   },
   "file_extension": ".py",
   "mimetype": "text/x-python",
   "name": "python",
   "nbconvert_exporter": "python",
   "pygments_lexer": "ipython3",
   "version": "3.9.7"
  }
 },
 "nbformat": 4,
 "nbformat_minor": 5
}
