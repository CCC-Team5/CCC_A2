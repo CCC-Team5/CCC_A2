{
 "cells": [
  {
   "cell_type": "code",
   "execution_count": 1,
   "metadata": {
    "id": "Xsemmu8LACv2"
   },
   "outputs": [],
   "source": [
    "# !pip install couchdb\n",
    "# !pip install tweepy==v4.5.0 \n",
    "\n",
    "# https://codeleading.com/article/24561506756/\n",
    "# https://gist.github.com/marians/8e41fc817f04de7c4a70"
   ]
  },
  {
   "cell_type": "code",
   "execution_count": 2,
   "metadata": {},
   "outputs": [
    {
     "data": {
      "text/plain": [
       "'\\nssh -i \"CCC.pem\" ec2-user@ec2-3-104-118-191.ap-southeast-2.compute.amazonaws.com\\n\\nsudo yum update -y\\nsudo yum install -y docker\\n\\nsudo service docker start\\nsudo docker pull couchdb\\nsudo docker run -d --name my-couchdb -p 5984:5984 -e COUCHDB_USER=\\'admin\\' -e COUCHDB_PASSWORD=\\'123456\\' couchdb:latest\\n\\nlogout\\n\\nssh -i CCC.pem -L localhost:15984:172.17.0.2:5984 -N -f ec2-user@ec2-3-104-118-191.ap-southeast-2.compute.amazonaws.com\\n\\n——————————————————\\n\\nssh -i \"CCC.pem\" ec2-user@ec2-3-104-118-191.ap-southeast-2.compute.amazonaws.com\\n——\\nsudo service docker start\\n\\nlogout\\n——\\nssh -i CCC.pem -L localhost:15984:172.17.0.2:5984 -N -f ec2-user@ec2-13-211-208-125.ap-southeast-2.compute.amazonaws.com\\n\\nhttp://localhost:15984/_utils\\n\\n---------------------\\nRun on EC2\\n\\ncurl -O https://bootstrap.pypa.io/get-pip.py\\n\\npython3 get-pip.py --user\\n\\nscp -r -i CCC.pem CCC_A2 ec2-user@ec2-3-104-118-191.ap-southeast-2.compute.amazonaws.com:~\\n\\n'"
      ]
     },
     "execution_count": 2,
     "metadata": {},
     "output_type": "execute_result"
    }
   ],
   "source": [
    "# Ec2 config\n",
    "\"\"\"\n",
    "ssh -i \"CCC.pem\" ec2-user@ec2-3-104-118-191.ap-southeast-2.compute.amazonaws.com\n",
    "\n",
    "sudo yum update -y\n",
    "sudo yum install -y docker\n",
    "\n",
    "sudo service docker start\n",
    "sudo docker pull couchdb\n",
    "sudo docker run -d --name my-couchdb -p 5984:5984 -e COUCHDB_USER='admin' -e COUCHDB_PASSWORD='123456' couchdb:latest\n",
    "\n",
    "logout\n",
    "\n",
    "ssh -i CCC.pem -L localhost:15984:172.17.0.2:5984 -N -f ec2-3-25-244-154.ap-southeast-2.compute.amazonaws.com\n",
    "\n",
    "——————————————————\n",
    "\n",
    "ssh -i \"CCC.pem\" ec2-3-25-244-154.ap-southeast-2.compute.amazonaws.com\n",
    "——\n",
    "sudo service docker start\n",
    "\n",
    "sudo docker restart my-couchdb\n",
    "\n",
    "logout\n",
    "——\n",
    "ssh -i CCC.pem -L localhost:15984:172.17.0.2:5984 -N -f ec2-user@ec2-3-25-244-154.ap-southeast-2.compute.amazonaws.com\n",
    "\n",
    "http://localhost:15984/_utils\n",
    "\n",
    "---------------------\n",
    "Run on EC2\n",
    "\n",
    "curl -O https://bootstrap.pypa.io/get-pip.py\n",
    "\n",
    "python3 get-pip.py --user\n",
    "\n",
    "scp -r -i CCC.pem CCC_A2 ec2-3-25-244-154.ap-southeast-2.compute.amazonaws.com:~\n",
    "\n",
    "--------------\n",
    "nohup python3 main.py &\n",
    "\"\"\""
   ]
  },
  {
   "cell_type": "code",
   "execution_count": 6,
   "metadata": {},
   "outputs": [],
   "source": [
    "# couchbd_settings\n",
    "address = 'localhost:15984'\n",
    "username = 'admin'\n",
    "password = '123456'\n",
    "tweets = 'raw_tweets'\n",
    "user = 'user_list'\n",
    "test = 'test'"
   ]
  },
  {
   "cell_type": "code",
   "execution_count": 7,
   "metadata": {},
   "outputs": [],
   "source": [
    "import couchdb\n",
    "# from couchbd_settings import *\n",
    "\n",
    "# use authenticated connection to connect to couchdb server for writing to the database\n",
    "def db_connect(dbname):\n",
    "\n",
    "    couchserver = couchdb.Server('http://' + username + ':' + password + '@' + address)\n",
    "    try:\n",
    "      db = couchserver[dbname]\n",
    "    except:\n",
    "      db = couchserver.create(dbname)\n",
    "\n",
    "    return db\n",
    "\n",
    "tweet_db = db_connect(tweets)\n",
    "user_db = db_connect(user)\n",
    "test_db = db_connect(test)\n",
    "\n",
    "def save_to_db(item_id, keyword, item, db):\n",
    "    \n",
    "        db[item_id] = {keyword: item}\n"
   ]
  },
  {
   "cell_type": "code",
   "execution_count": 5,
   "metadata": {
    "id": "V1ci2n_p83yn"
   },
   "outputs": [],
   "source": [
    "# api_credentials\n",
    "\n",
    "#Weimin 500k cap\n",
    "\n",
    "BEARER_TOKEN = 'AAAAAAAAAAAAAAAAAAAAAGvGbQEAAAAAMgkT5P3XP%2B3JQeU6LEvr7K8AyVM%3DsgSDIfoNhxIYMHgbWi03qYtKzgwOy5Kij5cr2cQ2QRYZhNdPzD'\n",
    "\n",
    "# Weimin 2m cap\n",
    "# CONSUMER_KEY = '2Qgue4p6wHH3dopq2ztD2ABos'\n",
    "# CONSUMER_SECRET = 'JwSn0M1oYD8OSkbO2KU3uxAPWUCwiEr4GOrSSJDKvXjCbgXynt'\n",
    "# ACCESS_TOKEN = '1510262166045458432-jGTjHomcIQzCmNO4qE73ByiicZJUD2'  \n",
    "# ACCESS_TOKEN_SECRET = '3nYPGi7zbw2Z9LiuKqR1tzGsepuO1y8m1L5zISjIj0BqQ'\n",
    "# BEARER_TOKEN = 'AAAAAAAAAAAAAAAAAAAAAAoxbAEAAAAApib47uKVACiyXfOSAj8BELeJaf4%3DT4L0eLVTNooQRZVftkppGGnEoRqau3K2R73ZJYo3jB8TZFghZJ'\n",
    "\n",
    "# Wen 2m cap\n",
    "# BEARER_TOKEN = 'AAAAAAAAAAAAAAAAAAAAAGjcbAEAAAAANc0%2BWz6ZlsVZCZLEHegK9luuZXo%3DBKAeeJtUU6tKm3YqNHGz8u4jEfvDhTsQ9LnUq5Sz1GofEBI3mv'\n",
    "ACCESS_TOKEN = '1956431324-p8F2IRC56igWyDBPdyLyENv1hpWzurywGDR65Vu'\n",
    "ACCESS_TOKEN_SECRET = 'H527uwZmSQAw5em5HavBKRScQ36Fw1siO5GimhU4vX0kZ'\n",
    "CONSUMER_KEY = 'FDYIQR8qhQPl2fS61IH3ptRv5'\n",
    "CONSUMER_SECRET = 'UycadDkLnlDZGPev27mDBtyfHd39Eyk6psLVPpzH5zPvP4eE7D'\n"
   ]
  },
  {
   "cell_type": "code",
   "execution_count": null,
   "metadata": {},
   "outputs": [],
   "source": []
  },
  {
   "cell_type": "code",
   "execution_count": 7,
   "metadata": {
    "colab": {
     "base_uri": "https://localhost:8080/",
     "height": 322
    },
    "id": "OggPFsodeRI4",
    "outputId": "b06aecdc-11aa-4bb3-c8bb-57b8216df41f"
   },
   "outputs": [],
   "source": [
    "import tweepy\n",
    "import datetime\n",
    "# from api_credentials import *\n",
    "\n",
    "def authenticate():\n",
    "\n",
    "  client = tweepy.Client(bearer_token=BEARER_TOKEN, wait_on_rate_limit=True)\n",
    "\n",
    "  return client\n",
    "\n",
    "client = authenticate()\n"
   ]
  },
  {
   "cell_type": "code",
   "execution_count": 15,
   "metadata": {},
   "outputs": [
    {
     "name": "stderr",
     "output_type": "stream",
     "text": [
      "Rate limit exceeded. Sleeping for 518 seconds.\n"
     ]
    },
    {
     "ename": "KeyboardInterrupt",
     "evalue": "",
     "output_type": "error",
     "traceback": [
      "\u001b[0;31m---------------------------------------------------------------------------\u001b[0m",
      "\u001b[0;31mKeyboardInterrupt\u001b[0m                         Traceback (most recent call last)",
      "\u001b[0;32m/var/folders/zm/w0wn08v14ggc6v0qq8qzjmz80000gn/T/ipykernel_77380/3421167982.py\u001b[0m in \u001b[0;36m<module>\u001b[0;34m\u001b[0m\n\u001b[1;32m     28\u001b[0m             \u001b[0;32mpass\u001b[0m\u001b[0;34m\u001b[0m\u001b[0;34m\u001b[0m\u001b[0m\n\u001b[1;32m     29\u001b[0m \u001b[0;34m\u001b[0m\u001b[0m\n\u001b[0;32m---> 30\u001b[0;31m \u001b[0msearch_recent_tweets\u001b[0m\u001b[0;34m(\u001b[0m\u001b[0mclient\u001b[0m\u001b[0;34m,\u001b[0m \u001b[0mquery\u001b[0m\u001b[0;34m,\u001b[0m \u001b[0mplace_id\u001b[0m\u001b[0;34m,\u001b[0m \u001b[0mtweet_db\u001b[0m\u001b[0;34m)\u001b[0m\u001b[0;34m\u001b[0m\u001b[0;34m\u001b[0m\u001b[0m\n\u001b[0m",
      "\u001b[0;32m/var/folders/zm/w0wn08v14ggc6v0qq8qzjmz80000gn/T/ipykernel_77380/3421167982.py\u001b[0m in \u001b[0;36msearch_recent_tweets\u001b[0;34m(client, query, place_id, db)\u001b[0m\n\u001b[1;32m      9\u001b[0m     \u001b[0;31m# end_time = ''\u001b[0m\u001b[0;34m\u001b[0m\u001b[0;34m\u001b[0m\u001b[0m\n\u001b[1;32m     10\u001b[0m \u001b[0;34m\u001b[0m\u001b[0m\n\u001b[0;32m---> 11\u001b[0;31m     for response in tweepy.Paginator(client.search_recent_tweets, \n\u001b[0m\u001b[1;32m     12\u001b[0m                                      \u001b[0mquery\u001b[0m \u001b[0;34m=\u001b[0m \u001b[0mquery\u001b[0m\u001b[0;34m,\u001b[0m\u001b[0;34m\u001b[0m\u001b[0;34m\u001b[0m\u001b[0m\n\u001b[1;32m     13\u001b[0m                                      \u001b[0mtweet_fields\u001b[0m \u001b[0;34m=\u001b[0m \u001b[0;34m[\u001b[0m\u001b[0;34m'created_at'\u001b[0m\u001b[0;34m,\u001b[0m\u001b[0;34m'entities'\u001b[0m\u001b[0;34m,\u001b[0m\u001b[0;34m'geo'\u001b[0m\u001b[0;34m,\u001b[0m\u001b[0;34m'lang'\u001b[0m\u001b[0;34m]\u001b[0m\u001b[0;34m,\u001b[0m\u001b[0;34m\u001b[0m\u001b[0;34m\u001b[0m\u001b[0m\n",
      "\u001b[0;32m~/opt/anaconda3/lib/python3.9/site-packages/tweepy/pagination.py\u001b[0m in \u001b[0;36mflatten\u001b[0;34m(self, limit)\u001b[0m\n\u001b[1;32m     46\u001b[0m \u001b[0;34m\u001b[0m\u001b[0m\n\u001b[1;32m     47\u001b[0m         \u001b[0mcount\u001b[0m \u001b[0;34m=\u001b[0m \u001b[0;36m0\u001b[0m\u001b[0;34m\u001b[0m\u001b[0;34m\u001b[0m\u001b[0m\n\u001b[0;32m---> 48\u001b[0;31m         for response in PaginationIterator(self.method, *self.args,\n\u001b[0m\u001b[1;32m     49\u001b[0m                                            **self.kwargs):\n\u001b[1;32m     50\u001b[0m             \u001b[0;32mif\u001b[0m \u001b[0mresponse\u001b[0m\u001b[0;34m.\u001b[0m\u001b[0mdata\u001b[0m \u001b[0;32mis\u001b[0m \u001b[0;32mnot\u001b[0m \u001b[0;32mNone\u001b[0m\u001b[0;34m:\u001b[0m\u001b[0;34m\u001b[0m\u001b[0;34m\u001b[0m\u001b[0m\n",
      "\u001b[0;32m~/opt/anaconda3/lib/python3.9/site-packages/tweepy/pagination.py\u001b[0m in \u001b[0;36m__next__\u001b[0;34m(self)\u001b[0m\n\u001b[1;32m     96\u001b[0m             \u001b[0mself\u001b[0m\u001b[0;34m.\u001b[0m\u001b[0mkwargs\u001b[0m\u001b[0;34m[\u001b[0m\u001b[0;34m\"pagination_token\"\u001b[0m\u001b[0;34m]\u001b[0m \u001b[0;34m=\u001b[0m \u001b[0mpagination_token\u001b[0m\u001b[0;34m\u001b[0m\u001b[0;34m\u001b[0m\u001b[0m\n\u001b[1;32m     97\u001b[0m \u001b[0;34m\u001b[0m\u001b[0m\n\u001b[0;32m---> 98\u001b[0;31m         \u001b[0mresponse\u001b[0m \u001b[0;34m=\u001b[0m \u001b[0mself\u001b[0m\u001b[0;34m.\u001b[0m\u001b[0mmethod\u001b[0m\u001b[0;34m(\u001b[0m\u001b[0;34m*\u001b[0m\u001b[0mself\u001b[0m\u001b[0;34m.\u001b[0m\u001b[0margs\u001b[0m\u001b[0;34m,\u001b[0m \u001b[0;34m**\u001b[0m\u001b[0mself\u001b[0m\u001b[0;34m.\u001b[0m\u001b[0mkwargs\u001b[0m\u001b[0;34m)\u001b[0m\u001b[0;34m\u001b[0m\u001b[0;34m\u001b[0m\u001b[0m\n\u001b[0m\u001b[1;32m     99\u001b[0m \u001b[0;34m\u001b[0m\u001b[0m\n\u001b[1;32m    100\u001b[0m         \u001b[0mself\u001b[0m\u001b[0;34m.\u001b[0m\u001b[0mprevious_token\u001b[0m \u001b[0;34m=\u001b[0m \u001b[0mresponse\u001b[0m\u001b[0;34m.\u001b[0m\u001b[0mmeta\u001b[0m\u001b[0;34m.\u001b[0m\u001b[0mget\u001b[0m\u001b[0;34m(\u001b[0m\u001b[0;34m\"previous_token\"\u001b[0m\u001b[0;34m)\u001b[0m\u001b[0;34m\u001b[0m\u001b[0;34m\u001b[0m\u001b[0m\n",
      "\u001b[0;32m~/opt/anaconda3/lib/python3.9/site-packages/tweepy/client.py\u001b[0m in \u001b[0;36msearch_recent_tweets\u001b[0;34m(self, query, user_auth, **params)\u001b[0m\n\u001b[1;32m    846\u001b[0m         \"\"\"\n\u001b[1;32m    847\u001b[0m         \u001b[0mparams\u001b[0m\u001b[0;34m[\u001b[0m\u001b[0;34m\"query\"\u001b[0m\u001b[0;34m]\u001b[0m \u001b[0;34m=\u001b[0m \u001b[0mquery\u001b[0m\u001b[0;34m\u001b[0m\u001b[0;34m\u001b[0m\u001b[0m\n\u001b[0;32m--> 848\u001b[0;31m         return self._make_request(\n\u001b[0m\u001b[1;32m    849\u001b[0m             \u001b[0;34m\"GET\"\u001b[0m\u001b[0;34m,\u001b[0m \u001b[0;34m\"/2/tweets/search/recent\"\u001b[0m\u001b[0;34m,\u001b[0m \u001b[0mparams\u001b[0m\u001b[0;34m=\u001b[0m\u001b[0mparams\u001b[0m\u001b[0;34m,\u001b[0m\u001b[0;34m\u001b[0m\u001b[0;34m\u001b[0m\u001b[0m\n\u001b[1;32m    850\u001b[0m             endpoint_parameters=(\n",
      "\u001b[0;32m~/opt/anaconda3/lib/python3.9/site-packages/tweepy/client.py\u001b[0m in \u001b[0;36m_make_request\u001b[0;34m(self, method, route, params, endpoint_parameters, json, data_type, user_auth)\u001b[0m\n\u001b[1;32m    166\u001b[0m                 \u001b[0mlog\u001b[0m\u001b[0;34m.\u001b[0m\u001b[0mwarn\u001b[0m\u001b[0;34m(\u001b[0m\u001b[0;34mf\"Unexpected parameter: {param_name}\"\u001b[0m\u001b[0;34m)\u001b[0m\u001b[0;34m\u001b[0m\u001b[0;34m\u001b[0m\u001b[0m\n\u001b[1;32m    167\u001b[0m \u001b[0;34m\u001b[0m\u001b[0m\n\u001b[0;32m--> 168\u001b[0;31m         response = self.request(method, route, params=request_params,\n\u001b[0m\u001b[1;32m    169\u001b[0m                                 json=json, user_auth=user_auth)\n\u001b[1;32m    170\u001b[0m \u001b[0;34m\u001b[0m\u001b[0m\n",
      "\u001b[0;32m~/opt/anaconda3/lib/python3.9/site-packages/tweepy/client.py\u001b[0m in \u001b[0;36mrequest\u001b[0;34m(self, method, route, params, json, user_auth)\u001b[0m\n\u001b[1;32m    133\u001b[0m                             \u001b[0;34mf\"Sleeping for {sleep_time} seconds.\"\u001b[0m\u001b[0;34m\u001b[0m\u001b[0;34m\u001b[0m\u001b[0m\n\u001b[1;32m    134\u001b[0m                         )\n\u001b[0;32m--> 135\u001b[0;31m                         \u001b[0mtime\u001b[0m\u001b[0;34m.\u001b[0m\u001b[0msleep\u001b[0m\u001b[0;34m(\u001b[0m\u001b[0msleep_time\u001b[0m\u001b[0;34m)\u001b[0m\u001b[0;34m\u001b[0m\u001b[0;34m\u001b[0m\u001b[0m\n\u001b[0m\u001b[1;32m    136\u001b[0m                     \u001b[0;32mreturn\u001b[0m \u001b[0mself\u001b[0m\u001b[0;34m.\u001b[0m\u001b[0mrequest\u001b[0m\u001b[0;34m(\u001b[0m\u001b[0mmethod\u001b[0m\u001b[0;34m,\u001b[0m \u001b[0mroute\u001b[0m\u001b[0;34m,\u001b[0m \u001b[0mparams\u001b[0m\u001b[0;34m,\u001b[0m \u001b[0mjson\u001b[0m\u001b[0;34m,\u001b[0m \u001b[0muser_auth\u001b[0m\u001b[0;34m)\u001b[0m\u001b[0;34m\u001b[0m\u001b[0;34m\u001b[0m\u001b[0m\n\u001b[1;32m    137\u001b[0m                 \u001b[0;32melse\u001b[0m\u001b[0;34m:\u001b[0m\u001b[0;34m\u001b[0m\u001b[0;34m\u001b[0m\u001b[0m\n",
      "\u001b[0;31mKeyboardInterrupt\u001b[0m: "
     ]
    }
   ],
   "source": [
    "import json\n",
    "\n",
    "query = 'drink OR food OR restaurant OR health OR cost of living OR petrol price OR housing OR government OR covid OR corona OR coronavirus -is:retweet'\n",
    "place_id = '01864a8a64df9dc4'\n",
    "\n",
    "def search_recent_tweets(client, query, place_id, db):\n",
    "\n",
    "    # start_time = ''\n",
    "    # end_time = ''\n",
    "\n",
    "    for response in tweepy.Paginator(client.search_recent_tweets, \n",
    "                                     query = query, \n",
    "                                     tweet_fields = ['created_at','entities','geo','lang'],\n",
    "                                     place_fields = ['geo'],\n",
    "                                     expansions = 'geo.place_id,author_id',\n",
    "                                     max_results = 100).flatten():\n",
    "        try:\n",
    "            tweet = response.data\n",
    "            if tweet.get('geo', None) is not None:\n",
    "                if tweet['geo'].get('place_id') == place_id:\n",
    "                    tweet_id = tweet.get('id')\n",
    "                    if tweet_id not in db:\n",
    "                        print(tweet_id)\n",
    "                        save_to_db(tweet_id, tweet, db)\n",
    "                        \n",
    "        except Exception as e:\n",
    "            print(e)\n",
    "            pass\n",
    "            \n",
    "search_recent_tweets(client, query, place_id, tweet_db)"
   ]
  },
  {
   "cell_type": "code",
   "execution_count": 8,
   "metadata": {},
   "outputs": [],
   "source": [
    "place_id = '01864a8a64df9dc4'\n",
    "\n",
    "def search_timeline(id_str, place_id):\n",
    "    \n",
    "    for response in tweepy.Paginator(client.get_users_tweets, \n",
    "                                     id_str, \n",
    "                                     start_time = datetime.datetime(2018, 1, 1, 0, 0, 0).strftime(\"%Y-%m-%dT%H:%M:%SZ\"),\n",
    "                                     exclude='retweets',\n",
    "                                     tweet_fields = ['created_at','geo','lang'],\n",
    "                                     place_fields = ['geo'],\n",
    "                                     expansions = 'geo.place_id,author_id',\n",
    "                                     max_results = 100).flatten():\n",
    "        \n",
    "        tweet = response.data\n",
    "        print(tweet)\n",
    "        if tweet.get('geo', None) is not None:\n",
    "            if tweet['geo'].get('place_id') == place_id:\n",
    "                tweet_id = tweet.get('id')\n",
    "                if tweet_id not in tweet_db:\n",
    "                    save_to_db(str(tweet_id), 'timeline', tweet, tweet_db)"
   ]
  },
  {
   "cell_type": "code",
   "execution_count": null,
   "metadata": {},
   "outputs": [
    {
     "name": "stdout",
     "output_type": "stream",
     "text": [
      "new tweet: 1513485360021454858\n",
      "new tweet: 1513485368259387396\n"
     ]
    }
   ],
   "source": [
    "# under construction - combining streaming & search timeline\n",
    "\n",
    "import json\n",
    "\n",
    "class TwitterStreamer(tweepy.Stream):\n",
    "\n",
    "    def on_status(self, status):\n",
    "        print(f'status_text: {status.text}')\n",
    "\n",
    "    def on_data(self, data):\n",
    "        tweet = json.loads(data)\n",
    "        tweet_id = str(tweet.get('id'))\n",
    "        \n",
    "        if (tweet.get('retweeted_status', None) is None) and (tweet_id not in tweet_db):\n",
    "            save_to_db(tweet_id, 'stream', tweet, tweet_db)\n",
    "            print(f'new tweet: {tweet_id}')\n",
    "            \n",
    "        user_id = str(tweet['user'].get('id_str'))\n",
    "        if user_id not in user_db:\n",
    "            search_timeline(user_id, place_id)\n",
    "            save_to_db(user_id, 'processed', 'yes', user_db) \n",
    "    \n",
    "    def on_error(self, status):\n",
    "        print(f'error: {status}')\n",
    "        \n",
    "    def on_exception(self, exception):\n",
    "        print(f'exception: {exception}')\n",
    "        return\n",
    "\n",
    "stream = TwitterStreamer(CONSUMER_KEY, CONSUMER_SECRET, ACCESS_TOKEN, ACCESS_TOKEN_SECRET)\n",
    "\n",
    "while True:\n",
    "    try:\n",
    "        stream.filter(locations = [144.593741856, -38.433859306, 145.512528832, -37.5112737225])\n",
    "    except:\n",
    "        continue\n",
    "        \n",
    "stream.disconnect()"
   ]
  },
  {
   "cell_type": "code",
   "execution_count": null,
   "metadata": {},
   "outputs": [],
   "source": [
    "# working version without search timeline\n",
    "\n",
    "import json\n",
    "\n",
    "class TwitterStreamer(tweepy.Stream):\n",
    "\n",
    "    def on_status(self, status):\n",
    "        print(f'status_text: {status.text}')\n",
    "\n",
    "    def on_data(self, data):\n",
    "        tweet = json.loads(data)\n",
    "        tweet_id = tweet.get('id')\n",
    "        \n",
    "        if (tweet.get('retweeted_status', None) is None) and (str(tweet_id) not in tweet_db):\n",
    "            save_to_db(str(tweet_id), 'stream', tweet, tweet_db)\n",
    "            print(f'new tweet: {tweet_id}')\n",
    "    \n",
    "    def on_error(self, status):\n",
    "        print(status)\n",
    "        \n",
    "    def on_exception(self, exception):\n",
    "        print(f'exception: {exception}')\n",
    "        return\n",
    "\n",
    "stream = TwitterStreamer(CONSUMER_KEY, CONSUMER_SECRET, ACCESS_TOKEN, ACCESS_TOKEN_SECRET)\n",
    "\n",
    "while True:\n",
    "    try:\n",
    "        stream.filter(locations = [144.33363404800002, -38.50298801599996, 145.8784120140001, -37.17509899299995])\n",
    "\n",
    "    except:\n",
    "        continue"
   ]
  },
  {
   "cell_type": "code",
   "execution_count": null,
   "metadata": {},
   "outputs": [],
   "source": [
    "# too inefficient without geo selection, may not be needed\n",
    "\n",
    "\n",
    "\"\"\"\n",
    "def query(query_item):\n",
    "  query = \n",
    "\n",
    "return query\n",
    "\n",
    "\"\"\"\n",
    "\n",
    "query = 'cost of living OR petrol price OR housing -is:retweet'\n",
    "# query = 'bounding_box:[-105.301758 39.964069 -105.178505 40.09455]'\n",
    "\n",
    "\n",
    "import json\n",
    "\n",
    "def search_recent_tweets(client, query, db):\n",
    "\n",
    "    # start_time = ''\n",
    "    # end_time = ''\n",
    "\n",
    "    for response in tweepy.Paginator(client.search_recent_tweets, \n",
    "                                query = query, \n",
    "                                tweet_fields = ['created_at', 'geo', 'lang'],\n",
    "                                user_fields = ['id', 'username'],\n",
    "                                place_fields = ['geo'],\n",
    "                                expansions = 'geo.place_id,author_id').flatten(1): #delete number if not testing\n",
    "\n",
    "        try:\n",
    "            tweet = json.loads(json.dumps(response.data))\n",
    "            tweet_id = str(tweet.get('id'))\n",
    "            if tweet_id not in db:\n",
    "                save_to_db(tweet_id, tweet, db)\n",
    "        except Exception as e:\n",
    "            print(e)\n",
    "            pass\n",
    "            \n",
    "search_recent_tweets(client, query, tweet_db)"
   ]
  },
  {
   "cell_type": "code",
   "execution_count": null,
   "metadata": {},
   "outputs": [],
   "source": [
    "# import requests\n",
    "\n",
    "# def bearer_oauth(r):\n",
    "#     \"\"\"\n",
    "#     Method required by bearer token authentication.\n",
    "#     \"\"\"\n",
    "\n",
    "#     r.headers[\"Authorization\"] = f\"Bearer {BEARER_TOKEN}\"\n",
    "#     # r.headers[\"User-Agent\"] = \"v2FilteredStreamPython\"\n",
    "#     return r\n",
    "\n",
    "# url = 'https://api.twitter.com/2/users/215562059/tweets?expansions=geo.place_id&tweet.fields=id,created_at,text,author_id,geo,lang&place.fields=id,name,country_code,place_type,full_name,country,contained_within,geo'\n",
    "\n",
    "# response = requests.get(\n",
    "#     url,\n",
    "#     auth=bearer_oauth\n",
    "# )\n",
    "\n",
    "# tweet = response\n",
    "\n",
    "# print(tweet)\n",
    "\n",
    "# tweet = response.json()\n",
    "# print(tweet['includes'])"
   ]
  },
  {
   "cell_type": "code",
   "execution_count": null,
   "metadata": {},
   "outputs": [],
   "source": [
    "# #start_time =\n",
    "# #end_time = \n",
    "\n",
    "# max_results = 5\n",
    "\n",
    "\n",
    "# response = client.get_users_tweets(id = '215562059',\n",
    "#                                         exclude='retweets',\n",
    "#                                         tweet_fields = ['created_at','geo','lang'],\n",
    "#                                         place_fields = ['geo'],\n",
    "#                                         expansions = 'geo.place_id,author_id',\n",
    "#                                         max_results = max_results)\n",
    "\n",
    "\n",
    "\n",
    "# # combine response.data & response.includes\n",
    "\n",
    "# while 'next_token' in response.meta:\n",
    "#     response = client.get_users_tweets(id = '215562059',\n",
    "#                                         exclude='retweets',\n",
    "#                                         tweet_fields = ['created_at','geo','lang'],\n",
    "#                                         place_fields = ['geo'],\n",
    "#                                         expansions = 'geo.place_id,author_id',\n",
    "#                                         pagination_token = response.meta['next_token'],\n",
    "#                                         max_results = 100)\n",
    "    \n",
    "#     print(f'get page: {response.meta[\"next_token\"]}')\n",
    "\n",
    "\n",
    "    "
   ]
  },
  {
   "cell_type": "code",
   "execution_count": null,
   "metadata": {
    "id": "s5uEwyxpe0pk"
   },
   "outputs": [],
   "source": [
    "# import tweepy\n",
    "# # from twitter_credentials import *\n",
    "# from tweepy.streaming import StreamListener\n",
    "# from tweepy import OAuthHandler\n",
    "# from tweepy import Stream\n",
    "\n",
    "# def authenticate():\n",
    "\n",
    "#   auth = tweepy.OAuthHandler(CONSUMER_KEY, CONSUMER_SECRET)\n",
    "#   auth.set_access_token(ACCESS_TOKEN, ACCESS_TOKEN_SECRET)\n",
    "\n",
    "#   return tweepy.API(auth, wait_on_rate_limit = True)\n",
    "\n",
    "# api = authenticate()"
   ]
  }
 ],
 "metadata": {
  "colab": {
   "collapsed_sections": [],
   "name": "Untitled0.ipynb",
   "provenance": []
  },
  "kernelspec": {
   "display_name": "Python 3 (ipykernel)",
   "language": "python",
   "name": "python3"
  },
  "language_info": {
   "codemirror_mode": {
    "name": "ipython",
    "version": 3
   },
   "file_extension": ".py",
   "mimetype": "text/x-python",
   "name": "python",
   "nbconvert_exporter": "python",
   "pygments_lexer": "ipython3",
   "version": "3.9.7"
  }
 },
 "nbformat": 4,
 "nbformat_minor": 4
}
