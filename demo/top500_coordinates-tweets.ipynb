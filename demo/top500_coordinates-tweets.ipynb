{
 "cells": [
  {
   "cell_type": "code",
   "execution_count": null,
   "metadata": {},
   "outputs": [],
   "source": [
    "from collections import defaultdict, Counter\n",
    "import couchdb"
   ]
  },
  {
   "cell_type": "code",
   "execution_count": null,
   "metadata": {},
   "outputs": [],
   "source": [
    "# couchdb_settings\n",
    "address = '172.26.134.35:5984' \n",
    "username = 'grp5admin'\n",
    "password = 'password'\n",
    "tweets = 'raw_tweets'\n",
    "user = 'user_list'\n",
    "birth_country = 'birthcountry'\n",
    "lang_code = 'langcode'\n",
    "home_lang = 'homelang'"
   ]
  },
  {
   "cell_type": "code",
   "execution_count": null,
   "metadata": {},
   "outputs": [],
   "source": [
    "def fetch_DB(dbname):\n",
    "    \"\"\"\n",
    "    connect to CouchDB\n",
    "    params: name of the database to connect to\n",
    "    return: the db to establish connection with\n",
    "    return type: database\n",
    "    \"\"\"\n",
    "    \n",
    "    db = couchdb.Database('http://' + address + '/' + dbname)\n",
    "    db.resource.credentials = (username, password)\n"
   ]
  },
  {
   "cell_type": "code",
   "execution_count": null,
   "metadata": {},
   "outputs": [],
   "source": [
    "tweet_db = fetch_DB(tweets)"
   ]
  },
  {
   "cell_type": "code",
   "execution_count": null,
   "metadata": {},
   "outputs": [],
   "source": [
    "# get geos_tweets dict - {coordinates : list of all tweets tagged with that coordinates}\n",
    "\n",
    "geos_tweets = defaultdict(list)\n",
    "for item in tweet_db.view('geo/coordinates-tweet-1'):\n",
    "    geos_tweets[str(item.key)].append(item.value) \n",
    "\n",
    "for item in tweet_db.view('geo/coordinates-tweet-2'):\n",
    "    geos_tweets[str(item.key)].append(item.value) "
   ]
  },
  {
   "cell_type": "code",
   "execution_count": null,
   "metadata": {},
   "outputs": [],
   "source": [
    "# get geos_count dict - {coordinates : times checked}\n",
    "# top 500\n",
    "\n",
    "geos_count1 = defaultdict()\n",
    "geos_count2 = defaultdict()\n",
    "\n",
    "for item in tweet_db.view('geo/coordinates-count-1', group = True):\n",
    "    geos_count1[str(item.key)] = item.value\n",
    "\n",
    "for item in tweet_db.view('geo/coordinates-count-2', group = True):\n",
    "    geos_count2[str(item.key)] = item.value\n",
    "\n",
    "geos_count = (Counter(geos_count1) + Counter(geos_count2)).most_common(500)\n",
    "\n",
    "geos_count = dict(geos_count)"
   ]
  },
  {
   "cell_type": "code",
   "execution_count": null,
   "metadata": {},
   "outputs": [],
   "source": [
    "# get geos_tweets dict - {coordinates : list of all tweets tagged with that coordinates}\n",
    "# top 500\n",
    "geos_tweets = {k2: v1 for k2 in geos_count.keys() for k1, v1 in geos_tweets.items() if k1 == k2}"
   ]
  }
 ],
 "metadata": {
  "language_info": {
   "name": "python"
  },
  "orig_nbformat": 4
 },
 "nbformat": 4,
 "nbformat_minor": 2
}
