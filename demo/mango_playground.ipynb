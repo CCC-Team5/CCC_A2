{
 "cells": [
  {
   "cell_type": "code",
   "execution_count": 1,
   "id": "c1f468a4-5678-4ac8-af1c-e86f8ce00cc5",
   "metadata": {},
   "outputs": [],
   "source": [
    "import couchdb\n",
    "import os\n",
    "import subprocess\n",
    "from couchdb import *\n",
    "import json\n",
    "import pandas as pd\n",
    "\n",
    "# couchbd_settings\n",
    "address = 'localhost:15984'\n",
    "username = 'admin'\n",
    "password = '123456'\n",
    "tweets = 'raw_tweets'\n",
    "\n",
    "def set_up_db():\n",
    "    os.system(\"chmod 0400 CCC.pem\")\n",
    "    arg = \"ssh -i CCC.pem -L localhost:15984:172.17.0.2:5984 -N -f ec2-user@ec2-3-25-244-154.ap-southeast-2.compute.amazonaws.com\"\n",
    "    proc=subprocess.Popen(arg.split()).wait()\n",
    "    if proc != 0:\n",
    "        print(\"connection is already established\")\n",
    "        pass\n",
    "\n",
    "class CouchDBHandler:\n",
    "    def __init__(self, username, password, address, dbname):\n",
    "        self.db = couchdb.Server('http://' + username + ':' + password + '@' + address)[dbname]"
   ]
  },
  {
   "cell_type": "code",
   "execution_count": 6,
   "id": "1904cedb-78bd-4fc6-b8a9-41ef9cc0a926",
   "metadata": {},
   "outputs": [
    {
     "name": "stderr",
     "output_type": "stream",
     "text": [
      "chmod: CCC.pem: No such file or directory\n",
      "Warning: Identity file CCC.pem not accessible: No such file or directory.\n",
      "ec2-user@ec2-3-25-244-154.ap-southeast-2.compute.amazonaws.com: Permission denied (publickey,gssapi-keyex,gssapi-with-mic).\n"
     ]
    },
    {
     "name": "stdout",
     "output_type": "stream",
     "text": [
      "connection is already established\n",
      "<Database 'raw_tweets'>\n",
      "By replacing old &amp; outdated, inefficient &amp; unsafe heaters, we are improving the cost of living for many Victorians and at the same time, we are reducing greenhouse gas emissions and making our homes more environmentally friendly. @LilyDAmbrosioMP #springst {'place_id': '01864a8a64df9dc4'}\n",
      "While low paid/casualised workforce won't be able to afford RAT, there are many people looking like ducks on the surface and madly juggling increasing cost of living, underemployment, housing affordability who will also be stretched. #COVID19 {'place_id': '01864a8a64df9dc4'}\n",
      "Boomers, Gen Xers, etc, blame Millennials &amp; Gen Zs because we complain about how high the cost of living now is. Rent per/wk what was per/mth. Houses 4+times as much. Yet we're to blame. Or companies not paying tax, or politicians wages have gone from $75 000/yr to $400,000/yr. https://t.co/if27WfuSuW {'place_id': '01864a8a64df9dc4'}\n",
      "Sally McManus spam retweeting her cost of living question to distract from that tweet yesterday? \n",
      "\n",
      "Or is that a stretch? 🤔 {'place_id': '01864a8a64df9dc4'}\n",
      "Funny. I’ve never heard ol’ Sally speak out against grotesque govt spending, money printing, monetary vandalism from the RBA, the abandonment of cheap energy, red tape or God forbid our antiquated IR system. Now she’s concerned about cost of living. Spare me. https://t.co/PowL59CmTN {'place_id': '01864a8a64df9dc4'}\n",
      "Buy those votes Joshie! Can guarantee there be NO payment if election wasn't imminent. \n",
      "\n",
      "Federal budget to include one-off payment to help ease cost of living pressures\n",
      "https://t.co/gmBucLuMc3 {'place_id': '01864a8a64df9dc4'}\n",
      "On the wireless @JEChalmers talking about need to up wages for exploited, low paid workers.\n",
      "Extremely well paid interviewer: What about the flow on effect to cost of living? So much whataboutism.\n",
      "#auspol {'place_id': '01864a8a64df9dc4'}\n",
      "The way Frydenberg makes out cost of living pressures have nothing to do with 9 years in a row of LNP government policies including downward pressure on wage growth.\n",
      "Go figure. {'place_id': '01864a8a64df9dc4'}\n",
      "Great cost of living package…that starts on July 1. #Budget22 {'place_id': '01864a8a64df9dc4'}\n",
      "Is Frydenberg saying fuel prices will come down in 6 months or just that he doesn't give a shit about cost of living after the election? #Budget2022 {'place_id': '01864a8a64df9dc4'}\n",
      "This is not a bad budget, it will help many who are impacted by the rise in cost of living.\n",
      "It supports small business, it supports workers and it supports the most disadvantaged #Budget2022 {'place_id': '01864a8a64df9dc4'}\n",
      "“All the sincerity of a fake tan.” @AlboMP on the cost of living measures. @BreakfastNews \n",
      "And the ABC misreported on the $250 one off payment. That’s NOT for middle income earners. That’s for people on welfare. {'place_id': '01864a8a64df9dc4'}\n",
      "... and the wealthy merchant tosses a grape to the starving person.\n",
      "\n",
      "#budget #auspol #pensions\n",
      "Federal Budget 2022: Who will receive the $250 cost of living payment? https://t.co/HEjmSLvsAz {'place_id': '01864a8a64df9dc4'}\n",
      "If cost of living is a problem, and your party has been in power for 20 of the last 25 years, maybe it's YOU and YOUR PARTY who is to blame @JoshFrydenberg ? #auspol https://t.co/HQIuj9ulJ2 {'place_id': '01864a8a64df9dc4'}\n",
      "I’d rather pay higher taxes than hush money disguised as a one-off payment before an election and cost of living “relief” for 6 months. https://t.co/abpMiJWDLQ {'place_id': '01864a8a64df9dc4'}\n",
      "Can’t be trusted with secure jobs &amp; cost of living. #auspol #ausunions https://t.co/3ZelMKvjwO {'place_id': '01864a8a64df9dc4'}\n",
      "Spoke to an ALP candidate running in seat they're unlikely to win. They hit the phones every day.  No one today has mentioned the #AlboForPM gaffe. Pensioners concerned about cost of living, Medicare among issues.\n",
      "#auspol \n",
      "#ausvotes {'place_id': '01864a8a64df9dc4'}\n"
     ]
    }
   ],
   "source": [
    "set_up_db()\n",
    "\n",
    "db_handler = CouchDBHandler(username, password, address, tweets)\n",
    "print(db_handler.db)\n",
    "\n",
    "mango = {\"selector\": {\n",
    "         \"timeline.text\": {\n",
    "          \"$regex\": \"cost of living\"\n",
    "                           }\n",
    "                     },\n",
    "         \"fields\": [\"_id\", \"timeline.text\", \"timeline.geo\", \"timeline.entities\", \"timeline.lang\", \"timeline.created_at\"]\n",
    " }\n",
    "\n",
    "\n",
    "\n",
    "for row in db_handler.db.find(mango):\n",
    "    try:\n",
    "        if row['timeline'].get('geo', None) is not None:\n",
    "            print(row['timeline']['text'], row['timeline']['geo'])\n",
    "    except KeyError as e:\n",
    "        print(e)\n",
    "        \n",
    "        \n",
    "        \n",
    "        \n",
    "    # try:\n",
    "    #     if row[\"timeline\"][\"lang\"] != 'en':\n",
    "    #         print(\"timeline:\", row['_id'], row[\"timeline\"][\"lang\"])\n",
    "    # except KeyError:\n",
    "    # try:\n",
    "    #     if row[\"timeline\"][\"lang\"] != 'en':\n",
    "    #         print(\"timeline:\", row['_id'], row[\"timeline\"][\"lang\"])\n",
    "    # except KeyError:\n",
    "    #     if row[\"historic\"][\"lang\"] != 'en':\n",
    "    #         print(\"historic:\", row['_id'], row[\"historic\"][\"lang\"])"
   ]
  },
  {
   "cell_type": "code",
   "execution_count": null,
   "id": "241b683c-d6a1-4f12-9f1b-0f29b8bbdd90",
   "metadata": {},
   "outputs": [],
   "source": []
  }
 ],
 "metadata": {
  "kernelspec": {
   "display_name": "Python 3 (ipykernel)",
   "language": "python",
   "name": "python3"
  },
  "language_info": {
   "codemirror_mode": {
    "name": "ipython",
    "version": 3
   },
   "file_extension": ".py",
   "mimetype": "text/x-python",
   "name": "python",
   "nbconvert_exporter": "python",
   "pygments_lexer": "ipython3",
   "version": "3.9.7"
  }
 },
 "nbformat": 4,
 "nbformat_minor": 5
}
