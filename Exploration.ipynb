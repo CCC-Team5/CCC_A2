{
 "cells": [
  {
   "cell_type": "markdown",
   "id": "85838482-3192-4581-8286-63ff2968157b",
   "metadata": {
    "tags": []
   },
   "source": [
    "### Historic data to dict by year\n",
    "- {key, value}: {year, text}"
   ]
  },
  {
   "cell_type": "code",
   "execution_count": null,
   "id": "c99b1e93-7ad0-40f7-8e1d-1c2b1f20e222",
   "metadata": {},
   "outputs": [],
   "source": [
    "# couchbd_settings\n",
    "address = 'localhost:15984'\n",
    "username = 'admin'\n",
    "password = '123456'\n",
    "# tweets = 'raw_tweets'\n",
    "tweets = 'test'\n",
    "user = 'user_list'"
   ]
  },
  {
   "cell_type": "code",
   "execution_count": 2,
   "id": "665ec6aa-db78-4af9-b727-2a9f8d2aa6f8",
   "metadata": {},
   "outputs": [],
   "source": [
    "from typing import Optional\n",
    "from collections import defaultdict\n",
    "import couchdb\n",
    "import re\n",
    "class CouchDBHandler:\n",
    "    def __init__(self, username, password, address, dbname):\n",
    "        self.db = couchdb.Server('http://' + username + ':' + password + '@' + address)[dbname]\n",
    "        \n",
    "    def get_tweets(self, max_size):\n",
    "        tweet_historic_dict = defaultdict(list)\n",
    "        for i, doc_id in enumerate(self.db.view('_all_docs')):\n",
    "            if max_size:\n",
    "                if i > max_size:\n",
    "                    break\n",
    "            id_ = doc_id['id']\n",
    "            try:\n",
    "                year = self.db[id_]['historic']['created_at']\n",
    "                if year[:2] == '20':\n",
    "                    yr_created = year[:4]\n",
    "                elif year[-4:-2] == '20':\n",
    "                    yr_created = year[-4:]\n",
    "                else:  \n",
    "                    yr_created = 'Unknown' \n",
    "                \n",
    "                tweet_historic_dict[yr_created].append(self.db[id_]['historic']['text'])\n",
    "            except:\n",
    "                print(\"error:\", self.db[id_])\n",
    "        return tweet_historic_dict \n",
    "    \n",
    "    #def send_tweets(tweets: dict[str, str]):\n",
    "        # self.db.save(tweets)"
   ]
  },
  {
   "cell_type": "code",
   "execution_count": 4,
   "id": "344cd7f7-3d84-403d-a5c8-26847dee280a",
   "metadata": {},
   "outputs": [],
   "source": [
    "db_handler = CouchDBHandler(username, password, address, tweets)"
   ]
  },
  {
   "cell_type": "code",
   "execution_count": 5,
   "id": "d705aca7-c6d2-4164-a687-4983f1591787",
   "metadata": {},
   "outputs": [],
   "source": [
    "tweet_historic_dict = db_handler.get_tweets(max_size=341556)"
   ]
  },
  {
   "cell_type": "markdown",
   "id": "447ba141-7a08-41e4-8238-e7d1cc874ebc",
   "metadata": {
    "tags": []
   },
   "source": [
    "### Timeline & Stream data to dict by year\n",
    "- {key, value}: {year, text}"
   ]
  },
  {
   "cell_type": "code",
   "execution_count": 25,
   "id": "3210fc66-d0eb-45f6-9751-a6714d09d081",
   "metadata": {},
   "outputs": [],
   "source": [
    "# couchbd_settings\n",
    "address = 'localhost:5984'\n",
    "username = 'admin'\n",
    "password = '123456'\n",
    "tweets2 = 'raw_tweets'\n",
    "user = 'user_list'"
   ]
  },
  {
   "cell_type": "code",
   "execution_count": 26,
   "id": "45805abf-9eb4-4890-b8fa-b9d6235d55c3",
   "metadata": {},
   "outputs": [],
   "source": [
    "from typing import Optional\n",
    "from collections import defaultdict\n",
    "import couchdb\n",
    "import re\n",
    "class CouchDBHandler:\n",
    "    def __init__(self, username, password, address, dbname):\n",
    "        self.db = couchdb.Server('http://' + username + ':' + password + '@' + address)[dbname]\n",
    "        \n",
    "    def get_tweets(self, max_size):\n",
    "        tweet_timeline_dict = defaultdict(list)\n",
    "        tweet_stream_dict = defaultdict(list)\n",
    "        for i, doc_id in enumerate(self.db.view('_all_docs')):\n",
    "            if max_size:\n",
    "                if i > max_size:\n",
    "                    break\n",
    "            id_ = doc_id['id']\n",
    "            try:\n",
    "                year = self.db[id_]['stream']['created_at']\n",
    "                if year[:2] == '20':\n",
    "                    yr_created = year[:4]\n",
    "                elif year[-4:-2] == '20':\n",
    "                    yr_created = year[-4:]\n",
    "                else:  \n",
    "                    yr_created = 'Unknown' \n",
    "                \n",
    "                tweet_stream_dict[yr_created].append(self.db[id_]['stream']['text'])\n",
    "            except:\n",
    "                year = self.db[id_]['timeline']['created_at']\n",
    "                \n",
    "                if year[:2] == '20':\n",
    "                    yr_created = year[:4]\n",
    "                else:  #close to today\n",
    "                    yr_created = '2022' \n",
    "                \n",
    "                tweet_timeline_dict[yr_created].append(self.db[id_]['timeline']['text'])\n",
    "        return tweet_timeline_dict, tweet_stream_dict\n",
    "    \n",
    "    #def send_tweets(tweets: dict[str, str]):\n",
    "        # self.db.save(tweets)"
   ]
  },
  {
   "cell_type": "code",
   "execution_count": 27,
   "id": "0d9d7e17-0565-4ec6-a94d-0b5264ab0703",
   "metadata": {},
   "outputs": [],
   "source": [
    "db_handler2 = CouchDBHandler(username, password, address, tweets2)"
   ]
  },
  {
   "cell_type": "code",
   "execution_count": null,
   "id": "4ef2c82d-c7ed-4f47-8bfd-b702257d66b7",
   "metadata": {},
   "outputs": [],
   "source": [
    "tweet_timeline_dict,tweet_stream_dict = db_handler2.get_tweets(max_size=145112)"
   ]
  },
  {
   "cell_type": "markdown",
   "id": "a00be904-572d-4268-b79d-962c481fe1cd",
   "metadata": {
    "tags": []
   },
   "source": [
    "### top n counts by hashtags & occurrence words by year"
   ]
  },
  {
   "cell_type": "code",
   "execution_count": 9,
   "id": "f1faba6b-c259-4e82-95d6-edf0af57350f",
   "metadata": {},
   "outputs": [
    {
     "name": "stderr",
     "output_type": "stream",
     "text": [
      "[nltk_data] Downloading package punkt to /home/azureuser/nltk_data...\n",
      "[nltk_data]   Package punkt is already up-to-date!\n",
      "[nltk_data] Downloading package stopwords to\n",
      "[nltk_data]     /home/azureuser/nltk_data...\n",
      "[nltk_data]   Package stopwords is already up-to-date!\n"
     ]
    }
   ],
   "source": [
    "import nltk\n",
    "nltk.download('punkt')\n",
    "from nltk.corpus import stopwords\n",
    "nltk.download('stopwords')\n",
    "from nltk.tokenize import word_tokenize\n",
    "import string\n",
    "from collections import Counter"
   ]
  },
  {
   "cell_type": "code",
   "execution_count": null,
   "id": "687fc345-31d9-4a81-8e0b-f8145bc0fb37",
   "metadata": {},
   "outputs": [],
   "source": [
    "import re\n",
    "\n",
    "def f(s, pat):\n",
    "    pat = r'(\\w*%s\\w*)' % pat \n",
    "    return re.findall(pat, s)"
   ]
  },
  {
   "cell_type": "markdown",
   "id": "093f872d-66a7-4759-9a41-76a2aebeb8d1",
   "metadata": {
    "tags": []
   },
   "source": [
    "#### historic data"
   ]
  },
  {
   "cell_type": "code",
   "execution_count": 42,
   "id": "a347e1c8-9999-40f8-9a03-d1d36aedd4e9",
   "metadata": {},
   "outputs": [
    {
     "name": "stdout",
     "output_type": "stream",
     "text": [
      "common hash words: [('#Melbourne', 3245), ('#melbourne', 1893), ('#auspol', 869), ('#Job', 753), ('#Jobs', 559), ('#victraffic', 479), ('#TweetMyJobs', 424), ('#', 378), ('#australia', 361), ('#Australia', 333), ('#firewatch', 293), ('#AUSvIND', 286), ('#qanda', 259), ('#vicvotes', 253), ('#NashsNewVideo', 246), ('#vote5sos', 235), ('#coffee', 226), ('#love', 223), ('#springst', 218), ('#FollowMeNash', 218), ('#illridewithyou', 203), ('#foodporn', 201), ('#food', 191), ('#vscocam', 181), ('#SaveDallas', 162), ('#krazykristmas', 161), ('#travel', 157), ('#AFLGF', 157), ('#photo', 156), ('#BusinessMgmt', 155), ('#Christmas', 153), ('#summer', 153), ('#christmas', 151), ('#jackfollowme', 148), ('#sydneysiege', 146), ('#TheBachelorAU', 128), ('#nofilter', 127), ('#beach', 127), ('#Sales', 126), ('#GetCamTo3Mill', 122), ('#sunset', 119), ('#art', 118), ('#subscribetokianandjc', 118), ('#yum', 117), ('#spring', 117), ('#stkilda', 116), ('#SmallzyWelcomesHome5SOS', 116), ('#ihgjobs', 115), ('#ihg', 115), ('#hoteljobs', 115)]\n",
      "common words: [(\"'s\", 18924), ('melbourne', 13865), (\"n't\", 12830), (\"'m\", 9785), ('...', 9096), ('amp', 8367), ('https', 7751), (\"''\", 6848), ('like', 6790), ('``', 6667), ('love', 6515), ('day', 6245), ('good', 5958), ('get', 5581), ('..', 5370), ('one', 5298), ('time', 4918), ('today', 4886), ('vic', 4393), ('go', 4348), ('great', 4049), ('new', 3905), ('would', 3892), ('please', 3767), ('follow', 3659), ('see', 3532), ('u', 3522), ('going', 3372), ('know', 3369), ('timeline', 3300)]\n",
      "common hash words: [('#Melbourne', 2441), ('#nowplaying', 1736), ('#melbourne', 1401), ('#Incident', 720), ('#Job', 544), ('#StructureFire', 487), ('#auspol', 482), ('#Jobs', 431), ('#FullCall', 429), ('#harrystyles', 387), ('#NonStructureFire', 362), ('#', 341), ('#victraffic', 339), ('#Australia', 333), ('#CWC15', 333), ('#TweetMyJobs', 276), ('#australia', 261), ('#FireAlarm', 257), ('#AusOpen', 248), ('#qanda', 248), ('#BBL04', 215), ('#MKR', 198), ('#coffee', 196), ('#summer', 186), ('#love', 183), ('#ausopen', 166), ('#AC2015', 158), ('#mkr', 155), ('#food', 152), ('#ImACelebrityAU', 149), ('#vote5sos', 147), ('#KCA', 141), ('#BusinessMgmt', 113), ('#libspill', 112), ('#ONEDIRECTIONBRIT', 112), ('#QandA', 111), ('#Other', 110), ('#cwc15', 110), ('#Sales', 109), ('#foodporn', 102), ('#art', 101), ('#beach', 100), ('#photo', 98), ('#qldvotes', 96), ('#Hiring', 93), ('#travel', 91), ('#subscribetokianandjc', 90), ('#MacroBusinessLiveTweet', 89), ('#AUSvENG', 88), ('#stkilda', 87)]\n",
      "common words: [('https', 12599), (\"'s\", 11194), ('melbourne', 9956), ('today', 9070), ('wind', 7302), ('humidity', 7268), ('barometer', 7205), (\"n't\", 7111), ('rain', 6853), ('temperature', 6700), ('mm', 6691), ('hpa', 6667), (\"'m\", 6056), ('m/s', 5580), ('a2�c', 5580), ('...', 4943), ('amp', 4326), ('slowly', 4196), ('love', 3916), ('like', 3822), (\"''\", 3716), ('``', 3689), ('0,0', 3689), ('rising', 3402), ('good', 3363), ('day', 3164), ('get', 3099), ('falling', 3073), ('one', 3068), ('timeline', 2848)]\n"
     ]
    }
   ],
   "source": [
    "for key in tweet_historic_dict.keys():\n",
    "    lst = []\n",
    "    lst_after_removes = []\n",
    "    for text in tweet_historic_dict[key]:\n",
    "        lst = lst + f(text, \"#\")\n",
    "        #if lst: # a list of words contains #\n",
    "            #print(lst)\n",
    "        \n",
    "        removes = set(stopwords.words('english') + list(string.punctuation)+ ['http'])\n",
    "        lst_after_removes = lst_after_removes + [i for i in word_tokenize(text.lower()) if i not in removes]\n",
    "    \n",
    "    c = Counter(lst)\n",
    "    c2 = Counter(lst_after_removes)\n",
    "    print(\"common hash words:\", c.most_common(50))\n",
    "    print(\"common words:\", c2.most_common(30))"
   ]
  },
  {
   "cell_type": "code",
   "execution_count": 17,
   "id": "80f7e3cd-016f-439f-868f-94772b0fe8e1",
   "metadata": {},
   "outputs": [
    {
     "data": {
      "text/plain": [
       "dict_keys(['2014', '2015'])"
      ]
     },
     "execution_count": 17,
     "metadata": {},
     "output_type": "execute_result"
    }
   ],
   "source": [
    "tweet_historic_dict.keys()"
   ]
  },
  {
   "cell_type": "markdown",
   "id": "dcfa1e0c-0422-47f5-b033-1102b80f9eee",
   "metadata": {
    "tags": []
   },
   "source": [
    "#### timeline & stream data combined"
   ]
  },
  {
   "cell_type": "code",
   "execution_count": 10,
   "id": "2b5f11c7-ae79-4635-a521-b00670f4ec18",
   "metadata": {},
   "outputs": [
    {
     "name": "stdout",
     "output_type": "stream",
     "text": [
      "common hash words: [('#melbourne', 95), ('#vinyl', 89), ('#vinylrecords', 89), ('#vinylcollection', 88), ('#vinylclub', 88), ('#vinyljunkie', 84), ('#vinylart', 82), ('#records', 78), ('#IAMCARLTON', 77), ('#NAVYBLUES', 76), ('#recordcollection', 75), ('#UNITED', 74), ('#music', 74), ('#Batman', 72), ('#musiclover', 70), ('#fishergang', 58), ('#musictragic', 57), ('#Savetheoceans', 56), ('#gratitude', 55), ('#PurpleHaze', 54), ('#GetOnUp', 54), ('#bungeefitness', 54), ('#jiujitsu', 51), ('#haydenjoshuacharliefc', 51), ('#fisherfamily', 50), ('#dailygratitude', 50), ('#haydenjoshuacharlie', 49), ('#grateful', 42), ('#jiujitsuforeveryone', 42), ('#bungeeworkout', 40), ('#halfthaiaussie', 40), ('#Melbourne', 36), ('#nowspinning', 35), ('#BoundByBlue', 35), ('#gracie', 34), ('#personaltrainer', 34), ('#bungeedance', 33), ('#GratitudePractice', 32), ('#bungeejumping', 30), ('#Maximumeffort', 28), ('#sunnykingsup', 27), ('#', 26), ('#3rrrfm', 25), ('#classicalbums', 24), ('#bungeefly', 24), ('#templestowe', 24), ('#gratitudeattitude', 23), ('#stolenmomentson3rrr', 21), ('#aerialyoga', 21), ('#maejaneboys', 21), ('#gratitudechallenge', 21), ('#communityradio', 19), ('#bungee', 18), ('#AvecPleasure', 17), ('#metrotrains', 17), ('#drive', 17), ('#dailypractice', 17), ('#auspol', 16), ('#fitness', 16), ('#love', 16), ('#aerialsilks', 16), ('#commute', 16), ('#eltonsmithmusic', 16), ('#WeWorkAsOne', 15), ('#WineTasting', 15), ('#hair', 15), ('#bungeeflyfit', 15), ('#Brunswick', 15), ('#vicroads', 15), ('#gotiges', 15)]\n",
      "common words: [('https', 3410), ('’', 886), ('melbourne', 391), ('amp', 321), ('victoria', 321), ('...', 267), ('australia', 247), ('day', 239), ('new', 224), ('today', 214), ('great', 194), (\"'s\", 182), ('time', 175), ('get', 173), ('love', 144), ('good', 136), ('one', 128), ('back', 123), ('like', 122), ('wine', 119), ('see', 118), ('”', 118), ('1', 115), ('“', 114), ('vibesfitness', 114), ('done', 110), ('night', 109), ('store', 108), ('well', 107), ('go', 106), ('happy', 105), ('…', 102), ('music', 102), ('come', 101), ('week', 99), ('batman', 96), ('tonight', 95), ('thanks', 94), ('vinyl', 94), ('last', 93), ('best', 92), ('gracie', 91), ('first', 90), ('year', 90), ('us', 89), ('vinylrecords', 89), (\"n't\", 88), ('brunswick', 88), ('vinylcollection', 88), ('got', 86)]\n",
      "common hash words: [('#melbourne', 342), ('#theculinaryclub', 182), ('#auspol', 151), ('#picoftheday', 148), ('#IAMCARLTON', 129), ('#hanaandgnocchi', 129), ('#hanathetoypoodle', 128), ('#NAVYBLUES', 125), ('#UNITED', 123), ('#Batman', 122), ('#music', 122), ('#sunset', 119), ('#australia', 117), ('#PurpleHaze', 115), ('#GetOnUp', 108), ('#vinyl', 107), ('#vinylcollection', 106), ('#vinylrecords', 106), ('#vinylclub', 105), ('#records', 103), ('#gnocchithetoypoodle', 102), ('#recordcollection', 101), ('#clouds', 96), ('#toypoodle', 95), ('#cnnweather', 95), ('#vinyljunkie', 94), ('#hjcfisher', 93), ('#Savetheoceans', 93), ('#Melbourne', 93), ('#vinylart', 91), ('#halfthaiaussie', 89), ('#musictragic', 88), ('#musiclover', 88), ('#haydenjoshuacharliefc', 88), ('#BoundByBlue', 87), ('#fishergang', 84), ('#fisherfamily', 84), ('#poodlesisters', 80), ('#', 78), ('#sunnykingsup', 73), ('#maejaneboys', 72), ('#sunsets', 69), ('#jewelofthewest', 68), ('#staystrong', 66), ('#SimonesWorld', 66), ('#sup', 64), ('#nature', 64), ('#rescuedog', 61), ('#ILoveCambodia', 60), ('#thecomplimentproject', 57), ('#sun', 55), ('#blackandwhite', 55), ('#sky', 54), ('#autumn', 53), ('#jiujitsu', 51), ('#victoria', 50), ('#nowplaying', 49), ('#SalvameRadio', 49), ('#winter', 48), ('#อย', 47), ('#drive', 47), ('#dinnerathome', 46), ('#nowspinning', 44), ('#gracie', 44), ('#3rrrfm', 43), ('#BPXmas', 43), ('#classicalbums', 41), ('#golf', 41), ('#templestowe', 40), ('#library', 39)]\n",
      "common words: [('https', 9809), ('’', 2388), ('melbourne', 1573), ('amp', 1448), ('victoria', 1186), ('...', 1117), ('australia', 1057), (\"'s\", 808), ('today', 749), ('day', 712), ('time', 579), ('great', 527), ('new', 516), ('one', 483), ('good', 466), ('see', 466), ('get', 447), ('love', 426), ('like', 389), ('thanks', 368), ('happy', 357), (\"n't\", 354), ('night', 324), ('go', 316), ('year', 314), ('“', 313), ('tonight', 312), ('”', 305), ('last', 296), ('us', 295), ('de', 292), ('back', 291), ('little', 285), ('team', 279), ('much', 272), ('best', 264), ('2', 260), ('…', 260), ('thank', 256), ('week', 255), ('people', 247), ('first', 241), ('well', 236), ('..', 234), ('got', 226), ('coffee', 223), ('still', 221), ('going', 218), ('come', 217), ('୨୧┈┈┈┈┈┈┈┈┈┈┈┈┈┈┈┈┈୨୧', 214)]\n",
      "common hash words: [('#melbourne', 363), ('#auspol', 263), ('#transgirl', 224), ('#COVID19Vic', 221), ('#brat', 215), ('#ddlg', 214), ('#ddlgbrat', 207), ('#brattysub', 206), ('#sub', 206), ('#bdsm', 204), ('#daddydomlittlegirl', 202), ('#bdsmbrat', 198), ('#bdsmsub', 194), ('#bdsmgirl', 192), ('#SimonesWorld', 184), ('#Melbourne', 180), ('#nsfwtwitter', 178), ('#lgbt', 161), ('#theculinaryclub', 160), ('#trans', 157), ('#transgender', 150), ('#onlyfans', 144), ('#onlyfansbabe', 140), ('#OnlyFansPromo', 139), ('#onlyfanslink', 137), ('#bang', 134), ('#onlyFans', 134), ('#onlyfanscreator', 134), ('#Onlyfansnewby', 133), ('#stayhome', 130), ('#OnlyFansThread', 126), ('#sunset', 112), ('#jewelofthewest', 108), ('#dinnerathome', 96), ('#mtderrimut', 94), ('#cracking', 88), ('#coronavirus', 88), ('#vintage', 88), ('#BigBrotherAU', 87), ('#stkilda', 86), ('#australia', 85), ('#love', 84), ('#tie', 84), ('#staybalancedgolf', 80), ('#lockdown', 77), ('#silk', 76), ('#IAMCARLTON', 75), ('#NAVYBLUES', 75), ('#UNITED', 74), ('#Batman', 72), ('#PurpleHaze', 72), ('#coronavirusaustralia', 71), ('#staystrong', 69), ('#GetOnUp', 68), ('#covid19', 67), ('#AFL', 66), ('#hjcfisher', 65), ('#mystudio', 65), ('#haydenjoshuacharliefc', 64), ('#hanathetoypoodle', 63), ('#fisherfamily', 62), ('#fishergang', 62), ('#ace', 60), ('#ILoveCambodia', 60), ('#mrsmartmelbourne', 60), ('#lovegoodcoffee', 60), ('#simplebutdelicious', 59), ('#Australia', 58), ('#halfthaiaussie', 58), ('#COVID19Aus', 58)]\n",
      "common words: [('https', 21660), ('’', 6289), ('victoria', 3186), ('melbourne', 2754), ('amp', 2748), ('australia', 2553), ('...', 2520), (\"'s\", 1537), ('photo', 1300), ('posted', 1284), ('day', 1274), ('today', 1229), ('time', 1113), ('one', 1026), ('get', 1013), ('good', 950), ('like', 917), ('love', 909), ('”', 891), ('new', 884), ('“', 876), ('great', 858), ('back', 827), ('..', 757), ('people', 716), (\"n't\", 703), ('happy', 694), ('see', 673), ('us', 673), ('....', 670), ('go', 663), ('well', 626), ('home', 607), ('thanks', 588), ('year', 586), ('de', 581), ('much', 572), ('work', 550), ('got', 547), ('going', 546), ('know', 543), ('week', 530), ('و', 530), ('first', 525), ('tonight', 524), ('still', 517), ('best', 511), ('last', 501), ('studio', 500), ('need', 486)]\n",
      "common hash words: [('#auspol', 725), ('#melbourne', 517), ('#COVID19Vic', 458), ('#Melbourne', 447), ('#AFL', 265), ('#lovegoodcoffee', 209), ('#melbournelockdown', 185), ('#springst', 184), ('#Olympics', 183), ('#Ashes', 179), ('#australia', 166), ('#COVID19nsw', 163), ('#Australia', 159), ('#AFLFinals', 151), ('#AFLGF', 150), ('#lockdown', 149), ('#COVID19', 146), ('#CovidVic', 126), ('#mystudio', 124), ('#Tokyo2020', 124), ('#theculinaryclub', 118), ('#childcare', 114), ('#COVID19Aus', 113), ('#dinnerathome', 113), ('#notonlyabioinformatician', 111), ('#postride', 110), ('#SurvivorAU', 107), ('#cracking', 104), ('#jewelofthewest', 103), ('#lockdown6', 103), ('#SimonesWorld', 102), ('#mtderrimut', 101), ('#bang', 101), ('#BORUTO', 100), ('#SalvameRadio', 96), ('#love', 92), ('#BattleATL', 92), ('#trans', 91), ('#bettingtips', 91), ('#ScottyFromMarketing', 90), ('#mindfulness', 83), ('#gotiges', 82), ('#sunset', 81), ('#burchandpurchese', 80), ('#KTCWIN', 80), ('#beeroclock', 79), ('#GoPies', 79), ('#WorldSeries', 78), ('#clayart', 77), ('#bdsm', 77), ('#lgbt', 76), ('#simplebutdelicious', 75), ('#melbourneweather', 71), ('#glenwaverley', 70), ('#AusOpen', 70), ('#BorutoNarutonextgenerations', 70), ('#ForTheA', 69), ('#lovecraftbeer', 68), ('#ace', 68), ('#transgender', 68), ('#transgirl', 66), ('#DragonBallSuper', 65), ('#covid19vic', 65), ('#lockdownmelbourne', 64), ('#DogSquad', 63), ('#NARUTO', 63), ('#graffiti', 62), ('#', 62), ('#afl', 62), ('#afterpicstocome', 61)]\n",
      "common words: [('https', 51934), ('’', 12927), ('melbourne', 5823), ('posted', 5811), ('photo', 5555), ('victoria', 5453), ('amp', 5112), ('australia', 4859), (\"'s\", 4534), ('get', 2810), ('like', 2802), ('...', 2757), (\"n't\", 2704), ('day', 2450), ('one', 2443), ('today', 2434), ('good', 2368), ('time', 2304), ('new', 2164), ('go', 2099), ('back', 1806), ('people', 1802), ('love', 1756), ('great', 1748), ('see', 1666), ('“', 1502), ('”', 1497), ('well', 1424), ('..', 1405), (\"''\", 1327), ('happy', 1326), ('got', 1290), ('would', 1275), ('lockdown', 1271), ('first', 1268), ('‘', 1253), ('going', 1251), ('year', 1249), (\"'m\", 1239), ('work', 1237), ('last', 1227), ('us', 1192), ('know', 1185), ('``', 1151), ('و', 1142), ('need', 1127), ('night', 1070), ('still', 1067), ('best', 1060), ('video', 1058)]\n",
      "common hash words: [('#auspol', 514), ('#AusOpen', 413), ('#Melbourne', 138), ('#ohbrookeohtaylorohbrooke', 131), ('#melbourne', 123), ('#graciejiujitsutemplestowe', 111), ('#Ashes', 96), ('#NFTs', 80), ('#NFT', 78), ('#COVID19', 76), ('#jiujitsulifestyle', 73), ('#Crypto', 71), ('#Wordle', 71), ('#MAFS', 71), ('#AO2022', 69), ('#Ukraine', 65), ('#cryptocurrency', 62), ('#springst', 59), ('#ETH', 59), ('#crypto', 59), ('#不適切なワンダーランド', 59), ('#Australia', 57), ('#btc', 56), ('#TheDrum', 56), ('#NFTCommunity', 54), ('#YouTube', 50), ('#summer', 49), ('#vlogger', 49), ('#bookstagram', 48), ('#photography', 47), ('#MAFSAU', 46), ('#Ethereum', 44), ('#SuperBowl', 43), ('#COVID19Vic', 42), ('#latergram', 42), ('#ReligiousDiscriminationBill', 42), ('#SurvivorAU', 42), ('#AusPol', 41), ('#creators', 40), ('#insiders', 40), ('#art', 39), ('#Worldle', 39), ('#COVID19Aus', 38), ('#ashes', 36), ('#Townscaper', 36), ('#ScottyDoesntGiveARats', 34), ('#Djokovic', 34), ('#melbourneweather', 33), ('#AustralianOpen', 33), ('#graciecombatives', 33), ('#notonlyabioinformatician', 32), ('#graciebullyproof', 32), ('#jitslife', 32), ('#nftart', 31), ('#', 31), ('#graciejiujitsu', 30), ('#Videos', 30), ('#Bitcoin', 30), ('#RATs', 29), ('#ausopen', 29), ('#aflw', 29), ('#CallTheElectionDickhead', 28), ('#SalvameRadio', 27), ('#nft', 27), ('#BartyParty', 27), ('#lovegoodcoffee', 26), ('#australia', 26), ('#Football', 25), ('#bettingtips', 25), ('#Beijing2022', 25)]\n",
      "common words: [('https', 21008), ('’', 5190), (\"'s\", 2103), ('melbourne', 1634), ('amp', 1480), ('australia', 1472), ('photo', 1369), ('posted', 1348), ('victoria', 1293), (\"n't\", 1279), ('like', 1181), ('one', 1054), ('get', 1025), ('...', 981), ('time', 962), ('good', 925), ('day', 902), ('today', 893), ('people', 871), ('wordle', 860), ('new', 799), (\"''\", 796), ('🟩🟩🟩🟩🟩', 785), ('“', 767), ('”', 766), ('see', 731), ('go', 716), ('back', 699), ('love', 691), ('``', 655), ('know', 600), ('would', 588), ('auspol', 569), ('great', 566), ('got', 559), (\"'m\", 552), ('first', 551), ('going', 548), ('work', 504), ('need', 493), ('last', 487), ('..', 485), ('well', 477), ('still', 476), ('year', 464), ('much', 447), ('ausopen', 445), ('us', 443), ('think', 433), ('happy', 420)]\n"
     ]
    }
   ],
   "source": [
    "for key in tweet_timeline_dict.keys():\n",
    "    lst = []\n",
    "    lst_after_removes = []\n",
    "    for text in tweet_timeline_dict[key]:\n",
    "        lst = lst + f(text, \"#\")\n",
    "        #if lst: # a list of words contains #\n",
    "            #print(lst)\n",
    "        \n",
    "        removes = set(stopwords.words('english') + list(string.punctuation)+ ['http'])\n",
    "        lst_after_removes = lst_after_removes + [i for i in word_tokenize(text.lower()) if i not in removes]\n",
    "    \n",
    "    c = Counter(lst)\n",
    "    c2 = Counter(lst_after_removes)\n",
    "    print(\"common hash words:\", c.most_common(70))\n",
    "    print(\"common words:\", c2.most_common(50))"
   ]
  },
  {
   "cell_type": "code",
   "execution_count": null,
   "id": "527ab16b-8bdc-4e47-b1b4-15a3e067c3a2",
   "metadata": {},
   "outputs": [],
   "source": []
  }
 ],
 "metadata": {
  "kernelspec": {
   "display_name": "Python 3 (ipykernel)",
   "language": "python",
   "name": "python3"
  },
  "language_info": {
   "codemirror_mode": {
    "name": "ipython",
    "version": 3
   },
   "file_extension": ".py",
   "mimetype": "text/x-python",
   "name": "python",
   "nbconvert_exporter": "python",
   "pygments_lexer": "ipython3",
   "version": "3.9.7"
  }
 },
 "nbformat": 4,
 "nbformat_minor": 5
}
