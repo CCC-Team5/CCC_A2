{
 "cells": [
  {
   "cell_type": "code",
   "execution_count": 2,
   "metadata": {},
   "outputs": [],
   "source": [
    "import requests\n",
    "\n",
    "url = \"https://www.dropbox.com/s/y4ss9gmw6ykde51/twitter-melb.json.tar.gz\"\n",
    "filename = url.split(\"/\")[-1]\n",
    "with open(filename, \"wb\") as f:\n",
    "    r = requests.get(url)\n",
    "    f.write(r.content)"
   ]
  },
  {
   "cell_type": "code",
   "execution_count": 6,
   "metadata": {},
   "outputs": [
    {
     "name": "stdout",
     "output_type": "stream",
     "text": [
      "Not a gzipped file (b'<!')\n"
     ]
    }
   ],
   "source": [
    "import gzip\n",
    "import urllib.request\n",
    "\n",
    "def download_file(url):\n",
    "    out_file = '/Users/weimin/Downloads/CCC/CCC_A2/Twitter-Harvester/twitter-melb.json'\n",
    "\n",
    "    # Download archive\n",
    "    try:\n",
    "        # Read the file inside the .gz archive located at url\n",
    "        with urllib.request.urlopen(url) as response:\n",
    "            with gzip.GzipFile(fileobj=response) as uncompressed:\n",
    "                file_content = uncompressed.read()\n",
    "\n",
    "          # write to file in binary mode 'wb'\n",
    "        with open(out_file, 'wb') as f:\n",
    "            f.write(file_content)\n",
    "            return 0\n",
    "\n",
    "    except Exception as e:\n",
    "        print(e)\n",
    "        return 1\n",
    "\n",
    "retval=download_file('https://www.dropbox.com/s/y4ss9gmw6ykde51/twitter-melb.json.tar.gz') "
   ]
  },
  {
   "cell_type": "code",
   "execution_count": 1,
   "metadata": {},
   "outputs": [
    {
     "ename": "FileNotFoundError",
     "evalue": "[Errno 2] No such file or directory: 'twitter-melb.json'",
     "output_type": "error",
     "traceback": [
      "\u001b[0;31m---------------------------------------------------------------------------\u001b[0m",
      "\u001b[0;31mFileNotFoundError\u001b[0m                         Traceback (most recent call last)",
      "\u001b[0;32m/var/folders/zm/w0wn08v14ggc6v0qq8qzjmz80000gn/T/ipykernel_64273/1071366709.py\u001b[0m in \u001b[0;36m<module>\u001b[0;34m\u001b[0m\n\u001b[1;32m      2\u001b[0m \u001b[0;32mimport\u001b[0m \u001b[0mjson\u001b[0m\u001b[0;34m\u001b[0m\u001b[0;34m\u001b[0m\u001b[0m\n\u001b[1;32m      3\u001b[0m \u001b[0mtwitter_path\u001b[0m \u001b[0;34m=\u001b[0m \u001b[0;34m'twitter-melb.json'\u001b[0m\u001b[0;34m\u001b[0m\u001b[0;34m\u001b[0m\u001b[0m\n\u001b[0;32m----> 4\u001b[0;31m \u001b[0mfilesize\u001b[0m \u001b[0;34m=\u001b[0m \u001b[0mos\u001b[0m\u001b[0;34m.\u001b[0m\u001b[0mpath\u001b[0m\u001b[0;34m.\u001b[0m\u001b[0mgetsize\u001b[0m\u001b[0;34m(\u001b[0m\u001b[0mtwitter_path\u001b[0m\u001b[0;34m)\u001b[0m\u001b[0;34m\u001b[0m\u001b[0;34m\u001b[0m\u001b[0m\n\u001b[0m\u001b[1;32m      5\u001b[0m \u001b[0mprint\u001b[0m\u001b[0;34m(\u001b[0m\u001b[0mfilesize\u001b[0m\u001b[0;34m)\u001b[0m\u001b[0;34m\u001b[0m\u001b[0;34m\u001b[0m\u001b[0m\n\u001b[1;32m      6\u001b[0m \u001b[0;34m\u001b[0m\u001b[0m\n",
      "\u001b[0;32m~/opt/anaconda3/lib/python3.9/genericpath.py\u001b[0m in \u001b[0;36mgetsize\u001b[0;34m(filename)\u001b[0m\n\u001b[1;32m     48\u001b[0m \u001b[0;32mdef\u001b[0m \u001b[0mgetsize\u001b[0m\u001b[0;34m(\u001b[0m\u001b[0mfilename\u001b[0m\u001b[0;34m)\u001b[0m\u001b[0;34m:\u001b[0m\u001b[0;34m\u001b[0m\u001b[0;34m\u001b[0m\u001b[0m\n\u001b[1;32m     49\u001b[0m     \u001b[0;34m\"\"\"Return the size of a file, reported by os.stat().\"\"\"\u001b[0m\u001b[0;34m\u001b[0m\u001b[0;34m\u001b[0m\u001b[0m\n\u001b[0;32m---> 50\u001b[0;31m     \u001b[0;32mreturn\u001b[0m \u001b[0mos\u001b[0m\u001b[0;34m.\u001b[0m\u001b[0mstat\u001b[0m\u001b[0;34m(\u001b[0m\u001b[0mfilename\u001b[0m\u001b[0;34m)\u001b[0m\u001b[0;34m.\u001b[0m\u001b[0mst_size\u001b[0m\u001b[0;34m\u001b[0m\u001b[0;34m\u001b[0m\u001b[0m\n\u001b[0m\u001b[1;32m     51\u001b[0m \u001b[0;34m\u001b[0m\u001b[0m\n\u001b[1;32m     52\u001b[0m \u001b[0;34m\u001b[0m\u001b[0m\n",
      "\u001b[0;31mFileNotFoundError\u001b[0m: [Errno 2] No such file or directory: 'twitter-melb.json'"
     ]
    }
   ],
   "source": [
    "import os\n",
    "import json\n",
    "twitter_path = 'twitter-melb.json'\n",
    "filesize = os.path.getsize(twitter_path)\n",
    "print(filesize)\n",
    "\n",
    "chunksize = filesize / 100"
   ]
  },
  {
   "cell_type": "code",
   "execution_count": 2,
   "metadata": {},
   "outputs": [],
   "source": [
    "def chunk(twitter_path, chunksize, filesize):\n",
    "    \n",
    "    with open(twitter_path, 'rb') as f:\n",
    "        # Get current position in file\n",
    "        chunk_end = f.tell()\n",
    "\n",
    "        while True:\n",
    "            chunk_start = chunk_end\n",
    "            # Move from current position to current position + chunk_size\n",
    "            f.seek(f.tell() + chunksize)\n",
    "            # Read until the next line to not break lines in the middle\n",
    "            f.readline()\n",
    "            # Get chunk_end as the offset from the beginning of the file in bytes\n",
    "            chunk_end = f.tell()\n",
    "            if chunk_end > filesize:\n",
    "                chunk_end = filesize\n",
    "            yield chunk_start, chunk_end - chunk_start\n",
    "            if chunk_end == filesize:\n",
    "                break\n",
    "\n",
    "def read_tweets(twitter_path, start, size):\n",
    "    \"\"\"\n",
    "    param: twitter file path\n",
    "    return: twitter file lines\n",
    "    \"\"\"\n",
    "\n",
    "    with open(twitter_path, 'rb') as f:\n",
    "        # Get current position in file\n",
    "        f.seek(start)\n",
    "        end = start\n",
    "        while True:\n",
    "            line = f.readline()\n",
    "            end = f.tell()\n",
    "            yield line\n",
    "            if end > start + size:\n",
    "                end = start + size\n",
    "            if end == start + size:\n",
    "                break\n",
    "            \n",
    "def proc_line(line):\n",
    "    \"\"\"\n",
    "    param: twitter file lines\n",
    "    return: processed twitter file lines\n",
    "    \"\"\"\n",
    "    line = line.decode('utf-8')\n",
    "    line = line.strip('\\r\\n')\n",
    "    line = line.rstrip('')\n",
    "    if line.endswith (','):\n",
    "        line = line[:-1]\n",
    "    if line.endswith (']}'): \n",
    "        line = line[:-2]\n",
    "\n",
    "    return line"
   ]
  },
  {
   "cell_type": "code",
   "execution_count": 3,
   "metadata": {},
   "outputs": [],
   "source": [
    "# couchbd_settings\n",
    "address = 'localhost:15984'\n",
    "username = 'admin'\n",
    "password = '123456'\n",
    "tweets = 'raw_tweets'\n",
    "test = 'test'"
   ]
  },
  {
   "cell_type": "code",
   "execution_count": 4,
   "metadata": {},
   "outputs": [],
   "source": [
    "import couchdb\n",
    "\n",
    "# use authenticated connection to connect to couchdb server for writing to the database\n",
    "def db_connect(dbname):\n",
    "\n",
    "    couchserver = couchdb.Server('http://' + username + ':' + password + '@' + address)\n",
    "    try:\n",
    "      db = couchserver[dbname]\n",
    "    except:\n",
    "      db = couchserver.create(dbname)\n",
    "\n",
    "    return db\n",
    "\n",
    "test_db = db_connect(test)\n",
    "tweet_db = db_connect(tweets)\n",
    "\n",
    "def save_to_db(item_id, keyword, item, db):\n",
    "    \"\"\"\"\"\"\n",
    "    \"\"\"\"\"\"\n",
    "\n",
    "    db[item_id] = {keyword: item}"
   ]
  },
  {
   "cell_type": "code",
   "execution_count": 5,
   "metadata": {},
   "outputs": [],
   "source": [
    "chunks = []\n",
    "\n",
    "for chunkStart, chunkSize in chunk(twitter_path, int(chunksize), filesize):\n",
    "            chunks.append({'chunkStart': chunkStart, 'chunkSize': chunkSize})"
   ]
  },
  {
   "cell_type": "code",
   "execution_count": 9,
   "metadata": {},
   "outputs": [],
   "source": [
    "import itertools\n",
    "\n",
    "chunkStart = chunks[9]['chunkStart']\n",
    "chunkSize = chunks[9]['chunkSize']\n",
    "yield_tweets = read_tweets(twitter_path,  chunkStart, chunkSize)\n",
    "\n",
    "for line in yield_tweets:\n",
    "    line_processed = proc_line(line)\n",
    "    try:\n",
    "        data = json.loads(line_processed)\n",
    "        tweet_id = data['id']\n",
    "        if tweet_id not in tweet_db and tweet_id not in test_db:\n",
    "            save_to_db(tweet_id, 'historic', data['doc'], test_db)\n",
    "    except Exception as e:\n",
    "        print('Error reading line --ignoring')\n",
    "        print(e)      \n",
    "        "
   ]
  }
 ],
 "metadata": {
  "interpreter": {
   "hash": "0dabc2a3d58a0c5bc25b4ec180f9b0e69ae1522730256f35a8f23b249fc9a485"
  },
  "kernelspec": {
   "display_name": "Python 3 (ipykernel)",
   "language": "python",
   "name": "python3"
  },
  "language_info": {
   "codemirror_mode": {
    "name": "ipython",
    "version": 3
   },
   "file_extension": ".py",
   "mimetype": "text/x-python",
   "name": "python",
   "nbconvert_exporter": "python",
   "pygments_lexer": "ipython3",
   "version": "3.9.7"
  }
 },
 "nbformat": 4,
 "nbformat_minor": 4
}
